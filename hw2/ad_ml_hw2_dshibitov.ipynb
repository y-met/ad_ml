{
 "cells": [
  {
   "cell_type": "code",
   "execution_count": 1,
   "metadata": {},
   "outputs": [],
   "source": [
    "import os\n",
    "import gc\n",
    "import six\n",
    "import math\n",
    "import scipy\n",
    "import collections\n",
    "import numpy as np\n",
    "import pandas as pd\n",
    "import matplotlib.pyplot as plt\n",
    "\n",
    "from datetime import datetime\n",
    "from tqdm.notebook import tqdm\n",
    "from sklearn.linear_model import LogisticRegression, LinearRegression"
   ]
  },
  {
   "cell_type": "markdown",
   "metadata": {},
   "source": [
    "### 1. Прочитайте и проанализируйте данные"
   ]
  },
  {
   "cell_type": "code",
   "execution_count": 2,
   "metadata": {},
   "outputs": [],
   "source": [
    "DATA_FOLDER = 'chgk'\n",
    "\n",
    "results = pd.read_pickle(os.path.join(DATA_FOLDER, 'results.pkl'))\n",
    "tournaments = pd.read_pickle(os.path.join(DATA_FOLDER, 'tournaments.pkl'))\n",
    "players_catalog = pd.read_pickle(os.path.join(DATA_FOLDER, 'players.pkl'))"
   ]
  },
  {
   "cell_type": "code",
   "execution_count": 3,
   "metadata": {},
   "outputs": [],
   "source": [
    "TRAIN_YEAR = 2019\n",
    "TEST_YEAR = 2020"
   ]
  },
  {
   "cell_type": "code",
   "execution_count": 4,
   "metadata": {},
   "outputs": [],
   "source": [
    "def is_valid_team(team_dict):\n",
    "    if team_dict['players'] and team_dict['answers']:\n",
    "        return True\n",
    "    else:\n",
    "        return False\n",
    "    \n",
    "\n",
    "def is_valid_tournament(tournament_dict):\n",
    "    teams = tournament_dict['teams']\n",
    "    if not teams:\n",
    "        return False\n",
    "    \n",
    "    num_answers = None\n",
    "    for team in teams:\n",
    "        answers = team['answers']\n",
    "        num_answers = num_answers or len(answers)\n",
    "        if num_answers != len(answers):\n",
    "            return False\n",
    "    \n",
    "    return True\n",
    "\n",
    "\n",
    "def get_answers(answers):\n",
    "    if not isinstance(answers, six.string_types) or set(answers) - {'0', '1'}:\n",
    "        return list()\n",
    "    return list(int(a) for a in answers)\n",
    "\n",
    "\n",
    "def get_unique_players(data):\n",
    "    result = set()\n",
    "\n",
    "    for tournament in tqdm(data): \n",
    "        teams = tournament['teams']\n",
    "        for team in teams:\n",
    "            players = team['players']\n",
    "            result.update(players)\n",
    "            \n",
    "    return result\n",
    "\n",
    "\n",
    "def get_train_test(tournaments, results):\n",
    "    train = []\n",
    "    test = []\n",
    "    for tournament_info in tqdm(tournaments.values()):\n",
    "        tournament_year = datetime.fromisoformat(tournament_info['dateStart']).year\n",
    "        if tournament_year not in (TRAIN_YEAR, TEST_YEAR):\n",
    "            continue\n",
    "    \n",
    "        tournament_id = tournament_info['id']\n",
    "        tournament_name = tournament_info['name']\n",
    "        \n",
    "        tournament_result = results[tournament_id]\n",
    "        if not tournament_result:\n",
    "            continue\n",
    "    \n",
    "        teams = []\n",
    "        for team in tournament_result:\n",
    "            team_id = team['team']['id']\n",
    "        \n",
    "            answers = get_answers(team.get('mask'))\n",
    "        \n",
    "            players = []\n",
    "            for member in team['teamMembers']:\n",
    "                player_id = member['player']['id']\n",
    "                players.append(player_id)\n",
    "        \n",
    "            team_dict = {\n",
    "                    'id': team_id,\n",
    "                    'answers' : answers,\n",
    "                    'players': players,\n",
    "                }\n",
    "            if not is_valid_team(team_dict):\n",
    "                continue\n",
    "            teams.append(team_dict)\n",
    "        \n",
    "        tournament_dict = {\n",
    "                'id': tournament_id,\n",
    "                'name': tournament_name,\n",
    "                'teams': teams,\n",
    "            }\n",
    "        if not is_valid_tournament(tournament_dict):\n",
    "            continue\n",
    "        if tournament_year == TRAIN_YEAR:\n",
    "            train.append(tournament_dict)\n",
    "        else:\n",
    "            test.append(tournament_dict)\n",
    "            \n",
    "    return train, test"
   ]
  },
  {
   "cell_type": "code",
   "execution_count": 5,
   "metadata": {},
   "outputs": [
    {
     "data": {
      "application/vnd.jupyter.widget-view+json": {
       "model_id": "dbc1ef03ef07408b8bf130bebee4bc58",
       "version_major": 2,
       "version_minor": 0
      },
      "text/plain": [
       "  0%|          | 0/5528 [00:00<?, ?it/s]"
      ]
     },
     "metadata": {},
     "output_type": "display_data"
    },
    {
     "data": {
      "text/plain": [
       "11076"
      ]
     },
     "execution_count": 5,
     "metadata": {},
     "output_type": "execute_result"
    }
   ],
   "source": [
    "train, test = get_train_test(tournaments, results)\n",
    "\n",
    "del tournaments\n",
    "gc.collect()"
   ]
  },
  {
   "cell_type": "code",
   "execution_count": 6,
   "metadata": {},
   "outputs": [
    {
     "data": {
      "application/vnd.jupyter.widget-view+json": {
       "model_id": "36612186d6944bc39e7931711846e9d1",
       "version_major": 2,
       "version_minor": 0
      },
      "text/plain": [
       "  0%|          | 0/604 [00:00<?, ?it/s]"
      ]
     },
     "metadata": {},
     "output_type": "display_data"
    },
    {
     "data": {
      "application/vnd.jupyter.widget-view+json": {
       "model_id": "723fb0103f6843ce9287eb3e14c55abc",
       "version_major": 2,
       "version_minor": 0
      },
      "text/plain": [
       "  0%|          | 0/604 [00:00<?, ?it/s]"
      ]
     },
     "metadata": {},
     "output_type": "display_data"
    }
   ],
   "source": [
    "unique_players = get_unique_players(train)\n",
    "num_players = len(unique_players)\n",
    "player_to_idx = {player: idx for idx, player in enumerate(unique_players)}\n",
    "\n",
    "player_num_answers = np.zeros(num_players)\n",
    "player_num_correct_answers = np.zeros(num_players)\n",
    "player_num_tournaments = np.zeros(num_players)\n",
    "player_teams = [set() for _ in range(num_players)]\n",
    "\n",
    "num_questions = 0\n",
    "unique_teams = set()\n",
    "for tournament in tqdm(train): \n",
    "    teams = tournament['teams']\n",
    "    \n",
    "    first_team = True\n",
    "    for team in teams:\n",
    "        team_id = team['id']\n",
    "        unique_teams.add(team_id)\n",
    "        \n",
    "        answers = team['answers']\n",
    "        num_answers = len(answers)\n",
    "        num_correct_answers = sum(answers)\n",
    "        if first_team:\n",
    "            num_questions += num_answers\n",
    "        \n",
    "        players = team['players']\n",
    "        for player in players:\n",
    "            player_idx = player_to_idx[player]\n",
    "            player_num_answers[player_idx] += num_answers\n",
    "            player_num_correct_answers[player_idx] += num_correct_answers\n",
    "            player_num_tournaments[player_idx] += 1\n",
    "            player_teams[player_idx].add(team_id)\n",
    "        \n",
    "        first_team = False\n",
    "        \n",
    "player_num_teams = np.array([len(pt) for pt in player_teams])\n",
    "player_correct_ratio = player_num_correct_answers / player_num_answers"
   ]
  },
  {
   "cell_type": "code",
   "execution_count": 7,
   "metadata": {},
   "outputs": [
    {
     "name": "stdout",
     "output_type": "stream",
     "text": [
      "В обучающем наборе:\n",
      "Уникальных игроков: 55151\n",
      "Команд: 10996\n",
      "Всего вопросов: 28264\n",
      "В среднем вопросов на турнир: 46\n"
     ]
    }
   ],
   "source": [
    "print('В обучающем наборе:')\n",
    "print(f'Уникальных игроков: {num_players}')\n",
    "print(f'Команд: {len(unique_teams)}')\n",
    "print(f'Всего вопросов: {num_questions}')\n",
    "print(f'В среднем вопросов на турнир: {int(num_questions / len(train))}')"
   ]
  },
  {
   "cell_type": "code",
   "execution_count": 29,
   "metadata": {},
   "outputs": [
    {
     "data": {
      "text/html": [
       "<div>\n",
       "<style scoped>\n",
       "    .dataframe tbody tr th:only-of-type {\n",
       "        vertical-align: middle;\n",
       "    }\n",
       "\n",
       "    .dataframe tbody tr th {\n",
       "        vertical-align: top;\n",
       "    }\n",
       "\n",
       "    .dataframe thead th {\n",
       "        text-align: right;\n",
       "    }\n",
       "</style>\n",
       "<table border=\"1\" class=\"dataframe\">\n",
       "  <thead>\n",
       "    <tr style=\"text-align: right;\">\n",
       "      <th></th>\n",
       "      <th>Показатель</th>\n",
       "      <th>count</th>\n",
       "      <th>mean</th>\n",
       "      <th>std</th>\n",
       "      <th>min</th>\n",
       "      <th>25%</th>\n",
       "      <th>50%</th>\n",
       "      <th>75%</th>\n",
       "      <th>max</th>\n",
       "    </tr>\n",
       "  </thead>\n",
       "  <tbody>\n",
       "    <tr>\n",
       "      <th>0</th>\n",
       "      <td>В скольких турнирах участвовали игроки</td>\n",
       "      <td>55151.0</td>\n",
       "      <td>6.220341</td>\n",
       "      <td>11.658492</td>\n",
       "      <td>1.0</td>\n",
       "      <td>1.000000</td>\n",
       "      <td>2.000000</td>\n",
       "      <td>5.00000</td>\n",
       "      <td>184.000000</td>\n",
       "    </tr>\n",
       "    <tr>\n",
       "      <th>1</th>\n",
       "      <td>В скольких командах находились игроки</td>\n",
       "      <td>55151.0</td>\n",
       "      <td>1.593552</td>\n",
       "      <td>1.980362</td>\n",
       "      <td>1.0</td>\n",
       "      <td>1.000000</td>\n",
       "      <td>1.000000</td>\n",
       "      <td>1.00000</td>\n",
       "      <td>54.000000</td>\n",
       "    </tr>\n",
       "    <tr>\n",
       "      <th>2</th>\n",
       "      <td>На сколько вопросов ответили игроки</td>\n",
       "      <td>55151.0</td>\n",
       "      <td>249.307955</td>\n",
       "      <td>466.594843</td>\n",
       "      <td>24.0</td>\n",
       "      <td>36.000000</td>\n",
       "      <td>72.000000</td>\n",
       "      <td>216.00000</td>\n",
       "      <td>7075.000000</td>\n",
       "    </tr>\n",
       "    <tr>\n",
       "      <th>3</th>\n",
       "      <td>На сколько вопросов ответили правильно</td>\n",
       "      <td>55151.0</td>\n",
       "      <td>107.220105</td>\n",
       "      <td>244.196935</td>\n",
       "      <td>0.0</td>\n",
       "      <td>11.000000</td>\n",
       "      <td>25.000000</td>\n",
       "      <td>80.00000</td>\n",
       "      <td>4061.000000</td>\n",
       "    </tr>\n",
       "    <tr>\n",
       "      <th>4</th>\n",
       "      <td>Доля правильных ответов у игроков</td>\n",
       "      <td>55151.0</td>\n",
       "      <td>0.337397</td>\n",
       "      <td>0.163131</td>\n",
       "      <td>0.0</td>\n",
       "      <td>0.214559</td>\n",
       "      <td>0.333333</td>\n",
       "      <td>0.45641</td>\n",
       "      <td>0.916667</td>\n",
       "    </tr>\n",
       "  </tbody>\n",
       "</table>\n",
       "</div>"
      ],
      "text/plain": [
       "                               Показатель    count        mean         std  \\\n",
       "0  В скольких турнирах участвовали игроки  55151.0    6.220341   11.658492   \n",
       "1   В скольких командах находились игроки  55151.0    1.593552    1.980362   \n",
       "2     На сколько вопросов ответили игроки  55151.0  249.307955  466.594843   \n",
       "3  На сколько вопросов ответили правильно  55151.0  107.220105  244.196935   \n",
       "4       Доля правильных ответов у игроков  55151.0    0.337397    0.163131   \n",
       "\n",
       "    min        25%        50%        75%          max  \n",
       "0   1.0   1.000000   2.000000    5.00000   184.000000  \n",
       "1   1.0   1.000000   1.000000    1.00000    54.000000  \n",
       "2  24.0  36.000000  72.000000  216.00000  7075.000000  \n",
       "3   0.0  11.000000  25.000000   80.00000  4061.000000  \n",
       "4   0.0   0.214559   0.333333    0.45641     0.916667  "
      ]
     },
     "execution_count": 29,
     "metadata": {},
     "output_type": "execute_result"
    }
   ],
   "source": [
    "pairs = [\n",
    "    ('В скольких турнирах участвовали игроки', player_num_tournaments),\n",
    "    ('В скольких командах находились игроки', player_num_teams),\n",
    "    ('На сколько вопросов ответили игроки', player_num_answers),\n",
    "    ('На сколько вопросов ответили правильно', player_num_correct_answers),\n",
    "    ('Доля правильных ответов у игроков', player_correct_ratio)\n",
    "]\n",
    "\n",
    "info = pd.DataFrame()\n",
    "for pair in pairs:\n",
    "    temp_info = pd.Series(pair[1]).describe().to_frame().T\n",
    "    temp_info['Показатель'] = pair[0]\n",
    "    info = info.append(temp_info, ignore_index=True)\n",
    "info = info[['Показатель',] + [col for col in info.columns if col != 'Показатель']]\n",
    "\n",
    "info"
   ]
  },
  {
   "cell_type": "markdown",
   "metadata": {},
   "source": [
    "### 2. Постройте baseline-модель на основе линейной или логистической регрессии"
   ]
  },
  {
   "cell_type": "markdown",
   "metadata": {},
   "source": [
    "Воспользуемся логистической регрессией. Пусть x - будет объединение вектора вопроса и вектора игрока (в обоих случая воспользуемся one-hot-encoding), таргетом будет 1 - если ответ верный, иначе 0. В таком случае, вес перед вопросом будет прокси его сложности, а перед игроком - его \"силы\" как игрока. Тогда мы сможем получить рейтинг игроков, отражировав их."
   ]
  },
  {
   "cell_type": "code",
   "execution_count": 9,
   "metadata": {},
   "outputs": [],
   "source": [
    "def get_sparse_matrix(question_player):\n",
    "    row = []\n",
    "    col = []\n",
    "    data = []\n",
    "    \n",
    "    max_row_idx = -1\n",
    "    max_player_idx = -1\n",
    "    for question_idx, player_idx_collection in enumerate(question_player):\n",
    "        for row_idx, player_idx in enumerate(player_idx_collection, 1):\n",
    "            if player_idx > max_player_idx:\n",
    "                max_player_idx = player_idx\n",
    "            row_idx += max_row_idx\n",
    "            \n",
    "            row.append(row_idx)\n",
    "            col.append(question_idx)\n",
    "            data.append(1)\n",
    "            \n",
    "            row.append(row_idx)\n",
    "            col.append(len(question_player) + player_idx)\n",
    "            data.append(1)\n",
    "            \n",
    "        max_row_idx = row_idx\n",
    "    num_rows = max_row_idx + 1\n",
    "    num_cols = max_player_idx + 1 + len(question_player)\n",
    "    coo = scipy.sparse.coo_matrix((data, (row, col)), shape=(num_rows, num_cols), dtype=np.uint8)\n",
    "    return coo\n",
    "\n",
    "\n",
    "def get_data(question_player_correct, question_player_incorrect):\n",
    "    correct_coo = get_sparse_matrix(question_player_correct)\n",
    "    incorrect_coo = get_sparse_matrix(question_player_incorrect)\n",
    "    \n",
    "    X = scipy.sparse.vstack([correct_coo, incorrect_coo]).tocsr()\n",
    "    y = np.array([1,] * correct_coo.shape[0] + [0,] * incorrect_coo.shape[0])\n",
    "    \n",
    "    return X, y"
   ]
  },
  {
   "cell_type": "code",
   "execution_count": 10,
   "metadata": {},
   "outputs": [
    {
     "data": {
      "application/vnd.jupyter.widget-view+json": {
       "model_id": "c2a15817e221459882688ab317f6165a",
       "version_major": 2,
       "version_minor": 0
      },
      "text/plain": [
       "  0%|          | 0/604 [00:00<?, ?it/s]"
      ]
     },
     "metadata": {},
     "output_type": "display_data"
    }
   ],
   "source": [
    "question_player_correct = [[] for _ in range(num_questions)]\n",
    "question_player_incorrect = [[] for _ in range(num_questions)]\n",
    "question_player_correct_team = [[] for _ in range(num_questions)]\n",
    "question_player_incorrect_team = [[] for _ in range(num_questions)]\n",
    "\n",
    "question_tournament = [None] * num_questions\n",
    "\n",
    "max_question_id = -1\n",
    "for tournament in tqdm(train): \n",
    "    tournament_name = tournament['name']\n",
    "    teams = tournament['teams']\n",
    "    for team in teams:\n",
    "        team_id = team['id']\n",
    "        answers = team['answers']\n",
    "        players = team['players']\n",
    "        for question_id, answer in enumerate(answers, 1):\n",
    "            question_id += max_question_id\n",
    "            \n",
    "            question_tournament[question_id] = tournament_name\n",
    "            \n",
    "            for player in players:\n",
    "                player_idx = player_to_idx[player]\n",
    "                if answer == 1:\n",
    "                    question_player_correct[question_id].append(player_idx)\n",
    "                    question_player_correct_team[question_id].append(team_id)\n",
    "                else:\n",
    "                    question_player_incorrect[question_id].append(player_idx)\n",
    "                    question_player_incorrect_team[question_id].append(team_id)\n",
    "    \n",
    "    max_question_id = question_id"
   ]
  },
  {
   "cell_type": "code",
   "execution_count": 11,
   "metadata": {},
   "outputs": [
    {
     "name": "stdout",
     "output_type": "stream",
     "text": [
      "CPU times: user 2min 50s, sys: 674 ms, total: 2min 50s\n",
      "Wall time: 2min 50s\n"
     ]
    },
    {
     "data": {
      "text/plain": [
       "LogisticRegression(n_jobs=8, random_state=42, solver='saga')"
      ]
     },
     "execution_count": 11,
     "metadata": {},
     "output_type": "execute_result"
    }
   ],
   "source": [
    "%%time\n",
    "\n",
    "X, y = get_data(question_player_correct, question_player_incorrect)\n",
    "\n",
    "lr = LogisticRegression(random_state=42, solver='saga', n_jobs=8)\n",
    "lr.fit(X, y)"
   ]
  },
  {
   "cell_type": "code",
   "execution_count": 12,
   "metadata": {},
   "outputs": [],
   "source": [
    "idx_to_player = {idx: player for player, idx in player_to_idx.items()}\n",
    "\n",
    "player_baseline_ratings_ = {}\n",
    "for idx, rating in enumerate(lr.coef_.flatten()[len(question_player_correct):]):\n",
    "    player_baseline_ratings_[idx_to_player[idx]] = rating\n",
    "\n",
    "player_baseline_ratings_ = dict(sorted(player_baseline_ratings_.items(), key=lambda x: -x[1]))"
   ]
  },
  {
   "cell_type": "code",
   "execution_count": 13,
   "metadata": {},
   "outputs": [
    {
     "data": {
      "text/html": [
       "<div>\n",
       "<style scoped>\n",
       "    .dataframe tbody tr th:only-of-type {\n",
       "        vertical-align: middle;\n",
       "    }\n",
       "\n",
       "    .dataframe tbody tr th {\n",
       "        vertical-align: top;\n",
       "    }\n",
       "\n",
       "    .dataframe thead th {\n",
       "        text-align: right;\n",
       "    }\n",
       "</style>\n",
       "<table border=\"1\" class=\"dataframe\">\n",
       "  <thead>\n",
       "    <tr style=\"text-align: right;\">\n",
       "      <th></th>\n",
       "      <th>player_id</th>\n",
       "      <th>baseline_score</th>\n",
       "      <th>name</th>\n",
       "      <th>surname</th>\n",
       "    </tr>\n",
       "  </thead>\n",
       "  <tbody>\n",
       "    <tr>\n",
       "      <th>0</th>\n",
       "      <td>27403</td>\n",
       "      <td>4.069292</td>\n",
       "      <td>Максим</td>\n",
       "      <td>Руссо</td>\n",
       "    </tr>\n",
       "    <tr>\n",
       "      <th>1</th>\n",
       "      <td>4270</td>\n",
       "      <td>3.932565</td>\n",
       "      <td>Александра</td>\n",
       "      <td>Брутер</td>\n",
       "    </tr>\n",
       "    <tr>\n",
       "      <th>2</th>\n",
       "      <td>28751</td>\n",
       "      <td>3.885219</td>\n",
       "      <td>Иван</td>\n",
       "      <td>Семушин</td>\n",
       "    </tr>\n",
       "    <tr>\n",
       "      <th>3</th>\n",
       "      <td>27822</td>\n",
       "      <td>3.853063</td>\n",
       "      <td>Михаил</td>\n",
       "      <td>Савченков</td>\n",
       "    </tr>\n",
       "    <tr>\n",
       "      <th>4</th>\n",
       "      <td>30270</td>\n",
       "      <td>3.758541</td>\n",
       "      <td>Сергей</td>\n",
       "      <td>Спешков</td>\n",
       "    </tr>\n",
       "    <tr>\n",
       "      <th>5</th>\n",
       "      <td>30152</td>\n",
       "      <td>3.752901</td>\n",
       "      <td>Артём</td>\n",
       "      <td>Сорожкин</td>\n",
       "    </tr>\n",
       "    <tr>\n",
       "      <th>6</th>\n",
       "      <td>18036</td>\n",
       "      <td>3.619236</td>\n",
       "      <td>Михаил</td>\n",
       "      <td>Левандовский</td>\n",
       "    </tr>\n",
       "    <tr>\n",
       "      <th>7</th>\n",
       "      <td>20691</td>\n",
       "      <td>3.614461</td>\n",
       "      <td>Станислав</td>\n",
       "      <td>Мереминский</td>\n",
       "    </tr>\n",
       "    <tr>\n",
       "      <th>8</th>\n",
       "      <td>87637</td>\n",
       "      <td>3.542881</td>\n",
       "      <td>Антон</td>\n",
       "      <td>Саксонов</td>\n",
       "    </tr>\n",
       "    <tr>\n",
       "      <th>9</th>\n",
       "      <td>22799</td>\n",
       "      <td>3.539576</td>\n",
       "      <td>Сергей</td>\n",
       "      <td>Николенко</td>\n",
       "    </tr>\n",
       "  </tbody>\n",
       "</table>\n",
       "</div>"
      ],
      "text/plain": [
       "   player_id  baseline_score        name       surname\n",
       "0      27403        4.069292      Максим         Руссо\n",
       "1       4270        3.932565  Александра        Брутер\n",
       "2      28751        3.885219        Иван       Семушин\n",
       "3      27822        3.853063      Михаил     Савченков\n",
       "4      30270        3.758541      Сергей       Спешков\n",
       "5      30152        3.752901       Артём      Сорожкин\n",
       "6      18036        3.619236      Михаил  Левандовский\n",
       "7      20691        3.614461   Станислав   Мереминский\n",
       "8      87637        3.542881       Антон      Саксонов\n",
       "9      22799        3.539576      Сергей     Николенко"
      ]
     },
     "execution_count": 13,
     "metadata": {},
     "output_type": "execute_result"
    }
   ],
   "source": [
    "player_baseline_ratings = pd.Series(player_baseline_ratings_).reset_index()\n",
    "player_baseline_ratings.columns = ['player_id', 'baseline_score']\n",
    "top = player_baseline_ratings[:10].copy(deep=True)\n",
    "top['name'] = top['player_id'].apply(lambda x: players_catalog[x]['name'])\n",
    "top['surname'] = top['player_id'].apply(lambda x: players_catalog[x]['surname'])\n",
    "top"
   ]
  },
  {
   "cell_type": "markdown",
   "metadata": {},
   "source": [
    "Немного юмора: увидев участника на 10-й позиции, я понял что получен, по всей видимости корректный бейзлайн :)"
   ]
  },
  {
   "cell_type": "markdown",
   "metadata": {},
   "source": [
    "### 3. Оценим качество рейтинг-системы для предсказаний результатов турниров"
   ]
  },
  {
   "cell_type": "markdown",
   "metadata": {},
   "source": [
    "Для построения рейтинга команд, сделаем несколько грубое предположение, что \"сила\" команды равна сумме \"силы\" её отдельных игроков. Но думаю в рамках нашей задачи это допустимо."
   ]
  },
  {
   "cell_type": "code",
   "execution_count": 14,
   "metadata": {},
   "outputs": [
    {
     "name": "stdout",
     "output_type": "stream",
     "text": [
      "Корреляция Cпирмена: 0.7869851816792957\n",
      "Корреляция Кенделла: 0.6269617502172807\n"
     ]
    }
   ],
   "source": [
    "def get_tournament_predict_and_fact(players_raiting, tournament_id):\n",
    "    teams_strengths = []\n",
    "    teams_fact_positions = []\n",
    "    for team in results[tournament_id]:\n",
    "        team_strength = []\n",
    "        if team.get('position', None) is not None:\n",
    "            teams_fact_positions.append(team['position'])\n",
    "            for member in team['teamMembers']:\n",
    "                if member['player']['id'] in players_raiting:\n",
    "                    team_strength.append(players_raiting[member['player']['id']])\n",
    "            if len(team_strength) > 0:\n",
    "                teams_strengths.append(np.sum(team_strength))\n",
    "            else:\n",
    "                teams_strengths.append(float('-inf'))\n",
    "    \n",
    "    return np.argsort(teams_strengths)[::-1] + 1, teams_fact_positions\n",
    "\n",
    "\n",
    "def get_correlations(players_raiting, verbose=True):\n",
    "    spearmanr_vals = []\n",
    "    kendalltau_vals = []\n",
    "    for tournament_id in [x['id'] for x in test]:\n",
    "        predicted, fact = get_tournament_predict_and_fact(players_raiting, tournament_id)\n",
    "        spearmanr_vals.append(scipy.stats.spearmanr(predicted, fact).correlation)\n",
    "        kendalltau_vals.append(scipy.stats.kendalltau(predicted, fact).correlation)\n",
    "    \n",
    "    spearmanr_res = np.mean(spearmanr_vals)\n",
    "    kendalltau_res = np.mean(kendalltau_vals)\n",
    "    if verbose:\n",
    "        print(f'Корреляция Cпирмена: {spearmanr_res}')\n",
    "        print(f'Корреляция Кенделла: {kendalltau_res}')\n",
    "        \n",
    "    return spearmanr_res, kendalltau_res\n",
    "\n",
    "\n",
    "def get_correlations_for_model(model, verbose=False):\n",
    "    player_baseline_ratings_t = {}\n",
    "    for idx, rating in enumerate(model.coef_.flatten()[len(question_player_correct):]):\n",
    "        player_baseline_ratings_t[idx_to_player[idx]] = rating\n",
    "\n",
    "    player_baseline_ratings_t = dict(sorted(player_baseline_ratings_t.items(), key=lambda x: -x[1]))\n",
    "    return get_correlations(player_baseline_ratings_t, verbose)\n",
    "\n",
    "_ = get_correlations(player_baseline_ratings_)"
   ]
  },
  {
   "cell_type": "markdown",
   "metadata": {},
   "source": [
    "### 4. EM - алгоритм"
   ]
  },
  {
   "cell_type": "markdown",
   "metadata": {},
   "source": [
    "В качестве скрытой переменной рассмотрим вероятность того, что игрок дал правильный ответ, при условии что\n",
    "команда дала правильный ответ: <b>z = P(player_right|team_right)</b>  \n",
    "Тогда: <b>z = (P(team_right|player_right) * P(player_right)) / P(team_right)</b>  \n",
    "так же примем, что если член команды отвечает правильно, то и команда отвечает правильно:  \n",
    "<b>z = P(player_right)) / P(team_right)</b>"
   ]
  },
  {
   "cell_type": "code",
   "execution_count": 15,
   "metadata": {},
   "outputs": [],
   "source": [
    "def prepare_questions(question_player_correct_team, question_player_incorrect_team):\n",
    "    # question_team\n",
    "    question_team = []\n",
    "    for team_collection in question_player_correct_team:\n",
    "        question_team.extend(team_collection)\n",
    "    for team_collection in question_player_incorrect_team:\n",
    "        question_team.extend(team_collection)\n",
    "    question_team = np.array(question_team)\n",
    "    \n",
    "    # question\n",
    "    question = []\n",
    "    for i in range(num_questions):\n",
    "        tmp = [i] * len(question_player_correct[i])\n",
    "        question.extend(tmp)\n",
    "    for i in range(num_questions):\n",
    "        tmp = [i] * len(question_player_incorrect[i])\n",
    "        question.extend(tmp)\n",
    "    question = np.array(question)\n",
    "    \n",
    "    return question, question_team\n",
    "\n",
    "\n",
    "def get_preds(model, X):\n",
    "    positive_preds = model.predict(X).clip(0, 1).reshape(-1, 1)\n",
    "    negative_preds = (1 - positive_preds).reshape(-1, 1)\n",
    "    return np.hstack((negative_preds, positive_preds))\n",
    "\n",
    "\n",
    "def get_statistics(incorrect_proba, correct_proba):\n",
    "    player_stats = pd.DataFrame({'team': question_team, 'question': question,\n",
    "                                 'player_incorrect_proba': incorrect_proba, 'player_correct_proba': correct_proba})\n",
    "    \n",
    "    team_stats = (\n",
    "        player_stats\n",
    "        .groupby(['team', 'question'])['player_incorrect_proba']\n",
    "        .prod()\n",
    "        .reset_index()\n",
    "        .rename(columns={'player_incorrect_proba': 'team_incorrect_proba'})\n",
    "    )\n",
    "    \n",
    "    return player_stats, team_stats"
   ]
  },
  {
   "cell_type": "code",
   "execution_count": 16,
   "metadata": {},
   "outputs": [],
   "source": [
    "question, question_team = prepare_questions(question_player_correct_team, question_player_incorrect_team)"
   ]
  },
  {
   "cell_type": "code",
   "execution_count": 17,
   "metadata": {},
   "outputs": [
    {
     "name": "stdout",
     "output_type": "stream",
     "text": [
      "Изначально\n",
      "Корреляция Cпирмена: 0.7817402198492948\n",
      "Корреляция Кенделла: 0.6213811841733065\n",
      "\n",
      "1-я итерация\n",
      "Корреляция Cпирмена: 0.7859822584513921\n",
      "Корреляция Кенделла: 0.625757114600424\n",
      "\n",
      "2-я итерация\n",
      "Корреляция Cпирмена: 0.7843007954115274\n",
      "Корреляция Кенделла: 0.6241014633402213\n",
      "\n",
      "3-я итерация\n",
      "Корреляция Cпирмена: 0.7859929463601041\n",
      "Корреляция Кенделла: 0.6258155225775321\n",
      "\n",
      "4-я итерация\n",
      "Корреляция Cпирмена: 0.7865118800578677\n",
      "Корреляция Кенделла: 0.6265643269895476\n",
      "\n",
      "5-я итерация\n",
      "Корреляция Cпирмена: 0.7880819666444869\n",
      "Корреляция Кенделла: 0.6285206136159233\n",
      "\n",
      "6-я итерация\n",
      "Корреляция Cпирмена: 0.7882896644282175\n",
      "Корреляция Кенделла: 0.6290385837813289\n",
      "\n",
      "7-я итерация\n",
      "Корреляция Cпирмена: 0.7880301556024264\n",
      "Корреляция Кенделла: 0.6290062797356902\n",
      "\n",
      "8-я итерация\n",
      "Корреляция Cпирмена: 0.7880230360626501\n",
      "Корреляция Кенделла: 0.6291536233255601\n",
      "\n",
      "9-я итерация\n",
      "Корреляция Cпирмена: 0.7887169103130619\n",
      "Корреляция Кенделла: 0.6295434492540769\n",
      "\n"
     ]
    }
   ],
   "source": [
    "n_iterations = 9\n",
    "\n",
    "spe_vals = []\n",
    "ken_vals = []\n",
    "\n",
    "model = LinearRegression()\n",
    "model.fit(X, y)\n",
    "print('Изначально')\n",
    "spe, ken = get_correlations_for_model(model, verbose=True)\n",
    "spe_vals.append(spe)\n",
    "ken_vals.append(ken)\n",
    "print()\n",
    "\n",
    "for i in range(n_iterations):\n",
    "    # E-шаг\n",
    "    preds = get_preds(model, X)\n",
    "    \n",
    "    player_stats, team_stats = get_statistics(preds[:, 0], preds[:, 1])\n",
    "    team_stats['team_correct_proba'] = 1 - team_stats['team_incorrect_proba']\n",
    "    all_stats = player_stats.merge(team_stats, on=['team', 'question'])\n",
    "    z = (all_stats['player_correct_proba'] / all_stats['team_correct_proba']).fillna(1).values.clip(0, 1)\n",
    "    z[y == 0] = 0\n",
    "    \n",
    "    # M-шаг\n",
    "    model.fit(X, z)\n",
    "    \n",
    "    # корреляции\n",
    "    print(f'{i+1}-я итерация')\n",
    "    spe, ken = get_correlations_for_model(model, verbose=True)\n",
    "    spe_vals.append(spe)\n",
    "    ken_vals.append(ken)\n",
    "    print()"
   ]
  },
  {
   "cell_type": "code",
   "execution_count": 18,
   "metadata": {},
   "outputs": [
    {
     "data": {
      "image/png": "[encoded data removed]",
      "text/plain": [
       "<Figure size 864x504 with 1 Axes>"
      ]
     },
     "metadata": {
      "needs_background": "light"
     },
     "output_type": "display_data"
    }
   ],
   "source": [
    "plt.figure(figsize=(12, 7))\n",
    "plt.plot(range(10), spe_vals, label='Spearman')\n",
    "plt.xlabel('Итерация')\n",
    "plt.ylabel('Корреляция')\n",
    "plt.legend()\n",
    "plt.show()"
   ]
  },
  {
   "cell_type": "code",
   "execution_count": 19,
   "metadata": {},
   "outputs": [
    {
     "data": {
      "image/png": "[encoded data removed]",
      "text/plain": [
       "<Figure size 864x504 with 1 Axes>"
      ]
     },
     "metadata": {
      "needs_background": "light"
     },
     "output_type": "display_data"
    }
   ],
   "source": [
    "plt.figure(figsize=(12, 7))\n",
    "plt.plot(range(10), ken_vals, label='Kendal')\n",
    "plt.xlabel('Итерация')\n",
    "plt.ylabel('Корреляция')\n",
    "plt.legend()\n",
    "plt.show()"
   ]
  },
  {
   "cell_type": "markdown",
   "metadata": {},
   "source": [
    "Видим, что с количеством итераций коэффициенты корреляции действительно растут. Лучшая модель (на основе метрик), получена на 9-й итерации EM-алгоритма."
   ]
  },
  {
   "cell_type": "markdown",
   "metadata": {},
   "source": [
    "### 5. Постройте “рейтинг-лист” турниров по сложности вопросов"
   ]
  },
  {
   "cell_type": "markdown",
   "metadata": {},
   "source": [
    "Снова воспользуемся предположением, что \"сложность\" турнира равна сумме \"сложности\" его вопросов."
   ]
  },
  {
   "cell_type": "code",
   "execution_count": 20,
   "metadata": {},
   "outputs": [],
   "source": [
    "question_ratings = collections.defaultdict(int)\n",
    "for idx, rating in enumerate(model.coef_.flatten()[:len(question_tournament)]):\n",
    "    question_ratings[question_tournament[idx]] += rating\n",
    "\n",
    "question_ratings = dict(sorted(question_ratings.items(), key=lambda x: x[1]))\n",
    "\n",
    "question_ratings = pd.Series(question_ratings).reset_index()\n",
    "question_ratings.columns = ['tournament_name', 'score']\n",
    "question_ratings['rating'] = range(1, len(question_ratings) + 1)\n",
    "question_ratings = question_ratings[['rating', 'tournament_name']]"
   ]
  },
  {
   "cell_type": "markdown",
   "metadata": {},
   "source": [
    "Топ-20 (наиболее сложные)"
   ]
  },
  {
   "cell_type": "code",
   "execution_count": 21,
   "metadata": {},
   "outputs": [
    {
     "data": {
      "text/html": [
       "<div>\n",
       "<style scoped>\n",
       "    .dataframe tbody tr th:only-of-type {\n",
       "        vertical-align: middle;\n",
       "    }\n",
       "\n",
       "    .dataframe tbody tr th {\n",
       "        vertical-align: top;\n",
       "    }\n",
       "\n",
       "    .dataframe thead th {\n",
       "        text-align: right;\n",
       "    }\n",
       "</style>\n",
       "<table border=\"1\" class=\"dataframe\">\n",
       "  <thead>\n",
       "    <tr style=\"text-align: right;\">\n",
       "      <th></th>\n",
       "      <th>rating</th>\n",
       "      <th>tournament_name</th>\n",
       "    </tr>\n",
       "  </thead>\n",
       "  <tbody>\n",
       "    <tr>\n",
       "      <th>0</th>\n",
       "      <td>1</td>\n",
       "      <td>Чемпионат Санкт-Петербурга. Первая лига</td>\n",
       "    </tr>\n",
       "    <tr>\n",
       "      <th>1</th>\n",
       "      <td>2</td>\n",
       "      <td>Чемпионат Санкт-Петербурга. Высшая лига</td>\n",
       "    </tr>\n",
       "    <tr>\n",
       "      <th>2</th>\n",
       "      <td>3</td>\n",
       "      <td>Чемпионат России</td>\n",
       "    </tr>\n",
       "    <tr>\n",
       "      <th>3</th>\n",
       "      <td>4</td>\n",
       "      <td>AU</td>\n",
       "    </tr>\n",
       "    <tr>\n",
       "      <th>4</th>\n",
       "      <td>5</td>\n",
       "      <td>Весна в ЛЭТИ</td>\n",
       "    </tr>\n",
       "    <tr>\n",
       "      <th>5</th>\n",
       "      <td>6</td>\n",
       "      <td>Угрюмый Ёрш</td>\n",
       "    </tr>\n",
       "    <tr>\n",
       "      <th>6</th>\n",
       "      <td>7</td>\n",
       "      <td>Беловежская Зима</td>\n",
       "    </tr>\n",
       "    <tr>\n",
       "      <th>7</th>\n",
       "      <td>8</td>\n",
       "      <td>Кубок Европы среди студентов</td>\n",
       "    </tr>\n",
       "    <tr>\n",
       "      <th>8</th>\n",
       "      <td>9</td>\n",
       "      <td>Кубок Физтеха</td>\n",
       "    </tr>\n",
       "    <tr>\n",
       "      <th>9</th>\n",
       "      <td>10</td>\n",
       "      <td>Крутое пике</td>\n",
       "    </tr>\n",
       "    <tr>\n",
       "      <th>10</th>\n",
       "      <td>11</td>\n",
       "      <td>Кубок Москвы</td>\n",
       "    </tr>\n",
       "    <tr>\n",
       "      <th>11</th>\n",
       "      <td>12</td>\n",
       "      <td>Memel Cup</td>\n",
       "    </tr>\n",
       "    <tr>\n",
       "      <th>12</th>\n",
       "      <td>13</td>\n",
       "      <td>Гостиный двор</td>\n",
       "    </tr>\n",
       "    <tr>\n",
       "      <th>13</th>\n",
       "      <td>14</td>\n",
       "      <td>Самариум</td>\n",
       "    </tr>\n",
       "    <tr>\n",
       "      <th>14</th>\n",
       "      <td>15</td>\n",
       "      <td>Синхрон Моносова</td>\n",
       "    </tr>\n",
       "    <tr>\n",
       "      <th>15</th>\n",
       "      <td>16</td>\n",
       "      <td>Студенческий чемпионат России</td>\n",
       "    </tr>\n",
       "    <tr>\n",
       "      <th>16</th>\n",
       "      <td>17</td>\n",
       "      <td>Чемпионат Беларуси</td>\n",
       "    </tr>\n",
       "    <tr>\n",
       "      <th>17</th>\n",
       "      <td>18</td>\n",
       "      <td>Открытый кубок Мордовии</td>\n",
       "    </tr>\n",
       "    <tr>\n",
       "      <th>18</th>\n",
       "      <td>19</td>\n",
       "      <td>Пятый интернешенол</td>\n",
       "    </tr>\n",
       "    <tr>\n",
       "      <th>19</th>\n",
       "      <td>20</td>\n",
       "      <td>БЛИК</td>\n",
       "    </tr>\n",
       "  </tbody>\n",
       "</table>\n",
       "</div>"
      ],
      "text/plain": [
       "    rating                          tournament_name\n",
       "0        1  Чемпионат Санкт-Петербурга. Первая лига\n",
       "1        2  Чемпионат Санкт-Петербурга. Высшая лига\n",
       "2        3                         Чемпионат России\n",
       "3        4                                       AU\n",
       "4        5                             Весна в ЛЭТИ\n",
       "5        6                              Угрюмый Ёрш\n",
       "6        7                         Беловежская Зима\n",
       "7        8             Кубок Европы среди студентов\n",
       "8        9                            Кубок Физтеха\n",
       "9       10                              Крутое пике\n",
       "10      11                             Кубок Москвы\n",
       "11      12                                Memel Cup\n",
       "12      13                            Гостиный двор\n",
       "13      14                                 Самариум\n",
       "14      15                         Синхрон Моносова\n",
       "15      16            Студенческий чемпионат России\n",
       "16      17                       Чемпионат Беларуси\n",
       "17      18                  Открытый кубок Мордовии\n",
       "18      19                       Пятый интернешенол\n",
       "19      20                                     БЛИК"
      ]
     },
     "execution_count": 21,
     "metadata": {},
     "output_type": "execute_result"
    }
   ],
   "source": [
    "question_ratings.head(20)"
   ]
  },
  {
   "cell_type": "markdown",
   "metadata": {},
   "source": [
    "Последние-20 (наиболее простые)"
   ]
  },
  {
   "cell_type": "code",
   "execution_count": 22,
   "metadata": {},
   "outputs": [
    {
     "data": {
      "text/html": [
       "<div>\n",
       "<style scoped>\n",
       "    .dataframe tbody tr th:only-of-type {\n",
       "        vertical-align: middle;\n",
       "    }\n",
       "\n",
       "    .dataframe tbody tr th {\n",
       "        vertical-align: top;\n",
       "    }\n",
       "\n",
       "    .dataframe thead th {\n",
       "        text-align: right;\n",
       "    }\n",
       "</style>\n",
       "<table border=\"1\" class=\"dataframe\">\n",
       "  <thead>\n",
       "    <tr style=\"text-align: right;\">\n",
       "      <th></th>\n",
       "      <th>rating</th>\n",
       "      <th>tournament_name</th>\n",
       "    </tr>\n",
       "  </thead>\n",
       "  <tbody>\n",
       "    <tr>\n",
       "      <th>578</th>\n",
       "      <td>579</td>\n",
       "      <td>(а)Синхрон-lite. Лига старта. Эпизод VII</td>\n",
       "    </tr>\n",
       "    <tr>\n",
       "      <th>579</th>\n",
       "      <td>580</td>\n",
       "      <td>Кубок Тышкевичей</td>\n",
       "    </tr>\n",
       "    <tr>\n",
       "      <th>580</th>\n",
       "      <td>581</td>\n",
       "      <td>Асинхрон по «Королю и Шуту»</td>\n",
       "    </tr>\n",
       "    <tr>\n",
       "      <th>581</th>\n",
       "      <td>582</td>\n",
       "      <td>(а)Синхрон-lite. Лига старта. Эпизод IX</td>\n",
       "    </tr>\n",
       "    <tr>\n",
       "      <th>582</th>\n",
       "      <td>583</td>\n",
       "      <td>Первая лига ЧТ</td>\n",
       "    </tr>\n",
       "    <tr>\n",
       "      <th>583</th>\n",
       "      <td>584</td>\n",
       "      <td>Школьный чемпионат России</td>\n",
       "    </tr>\n",
       "    <tr>\n",
       "      <th>584</th>\n",
       "      <td>585</td>\n",
       "      <td>Межфакультетский кубок МГУ. Отбор №4</td>\n",
       "    </tr>\n",
       "    <tr>\n",
       "      <th>585</th>\n",
       "      <td>586</td>\n",
       "      <td>Die Hard</td>\n",
       "    </tr>\n",
       "    <tr>\n",
       "      <th>586</th>\n",
       "      <td>587</td>\n",
       "      <td>Кубок Закарпатья</td>\n",
       "    </tr>\n",
       "    <tr>\n",
       "      <th>587</th>\n",
       "      <td>588</td>\n",
       "      <td>(А) Славянка без раздаток. 4 этап</td>\n",
       "    </tr>\n",
       "    <tr>\n",
       "      <th>588</th>\n",
       "      <td>589</td>\n",
       "      <td>(а)Синхрон-lite. Лига старта. Эпизод V</td>\n",
       "    </tr>\n",
       "    <tr>\n",
       "      <th>589</th>\n",
       "      <td>590</td>\n",
       "      <td>Чемпионат Беларуси среди школьников</td>\n",
       "    </tr>\n",
       "    <tr>\n",
       "      <th>590</th>\n",
       "      <td>591</td>\n",
       "      <td>Малый кубок Физтеха</td>\n",
       "    </tr>\n",
       "    <tr>\n",
       "      <th>591</th>\n",
       "      <td>592</td>\n",
       "      <td>Студенческий чемпионат Калининградской области</td>\n",
       "    </tr>\n",
       "    <tr>\n",
       "      <th>592</th>\n",
       "      <td>593</td>\n",
       "      <td>Кавалькада волхвов</td>\n",
       "    </tr>\n",
       "    <tr>\n",
       "      <th>593</th>\n",
       "      <td>594</td>\n",
       "      <td>Олимпиада Приволжского федерального округа. Финал</td>\n",
       "    </tr>\n",
       "    <tr>\n",
       "      <th>594</th>\n",
       "      <td>595</td>\n",
       "      <td>Второй тематический турнир имени Джоуи Триббиани</td>\n",
       "    </tr>\n",
       "    <tr>\n",
       "      <th>595</th>\n",
       "      <td>596</td>\n",
       "      <td>One ring - async</td>\n",
       "    </tr>\n",
       "    <tr>\n",
       "      <th>596</th>\n",
       "      <td>597</td>\n",
       "      <td>Асинхрон по South Park</td>\n",
       "    </tr>\n",
       "    <tr>\n",
       "      <th>597</th>\n",
       "      <td>598</td>\n",
       "      <td>Шестой киевский марафон. Асинхрон</td>\n",
       "    </tr>\n",
       "  </tbody>\n",
       "</table>\n",
       "</div>"
      ],
      "text/plain": [
       "     rating                                    tournament_name\n",
       "578     579           (а)Синхрон-lite. Лига старта. Эпизод VII\n",
       "579     580                                   Кубок Тышкевичей\n",
       "580     581                        Асинхрон по «Королю и Шуту»\n",
       "581     582            (а)Синхрон-lite. Лига старта. Эпизод IX\n",
       "582     583                                     Первая лига ЧТ\n",
       "583     584                          Школьный чемпионат России\n",
       "584     585               Межфакультетский кубок МГУ. Отбор №4\n",
       "585     586                                           Die Hard\n",
       "586     587                                   Кубок Закарпатья\n",
       "587     588                  (А) Славянка без раздаток. 4 этап\n",
       "588     589             (а)Синхрон-lite. Лига старта. Эпизод V\n",
       "589     590                Чемпионат Беларуси среди школьников\n",
       "590     591                                Малый кубок Физтеха\n",
       "591     592     Студенческий чемпионат Калининградской области\n",
       "592     593                                 Кавалькада волхвов\n",
       "593     594  Олимпиада Приволжского федерального округа. Финал\n",
       "594     595   Второй тематический турнир имени Джоуи Триббиани\n",
       "595     596                                   One ring - async\n",
       "596     597                             Асинхрон по South Park\n",
       "597     598                  Шестой киевский марафон. Асинхрон"
      ]
     },
     "execution_count": 22,
     "metadata": {},
     "output_type": "execute_result"
    }
   ],
   "source": [
    "question_ratings.tail(20)"
   ]
  },
  {
   "cell_type": "markdown",
   "metadata": {},
   "source": [
    "Выглядит похожим на правду. Например, в первые 20 попадают: \"Чемпионат Санкт-Петербурга. Первая лига\", \"Чемпионат России\", \"Кубок Европы среди студентов\". В свою очередь в последние 20, попадают: \"Школьный чемпионат России\", \"Второй тематический турнир имени Джоуи Триббиани\", \"Асинхрон по South Park\"."
   ]
  }
 ],
 "metadata": {
  "kernelspec": {
   "display_name": "Python 3",
   "language": "python",
   "name": "python3"
  },
  "language_info": {
   "codemirror_mode": {
    "name": "ipython",
    "version": 3
   },
   "file_extension": ".py",
   "mimetype": "text/x-python",
   "name": "python",
   "nbconvert_exporter": "python",
   "pygments_lexer": "ipython3",
   "version": "3.7.9"
  }
 },
 "nbformat": 4,
 "nbformat_minor": 4
}
